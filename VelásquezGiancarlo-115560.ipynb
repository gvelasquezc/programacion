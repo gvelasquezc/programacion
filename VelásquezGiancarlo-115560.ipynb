{
 "cells": [
  {
   "cell_type": "markdown",
   "metadata": {},
   "source": [
    "# PROGRAMACION DE COMPUTADORES APLICADO A LA INGENIERIA CIVIL\n",
    "## TALLER # 1\n",
    "GIANCARLO VELASQUEZ CARRILLO"
   ]
  },
  {
   "cell_type": "code",
   "execution_count": 2,
   "metadata": {},
   "outputs": [
    {
     "name": "stdout",
     "output_type": "stream",
     "text": [
      "escriba un numero: -10\n",
      "el valor absoluto es:  10.0\n"
     ]
    }
   ],
   "source": [
    "# PUNTO 1\n",
    "#se ingresa tipo float para que soporte enteros y decimales\n",
    "x = float(input('escriba un numero: '))\n",
    "\n",
    "if x>0: #condicional para dar los resultados de numeros positivos y negativos\n",
    "    print('el valor absoluto es: ',x)\n",
    "else:\n",
    "    print('el valor absoluto es: ',x*(-1))\n"
   ]
  },
  {
   "cell_type": "code",
   "execution_count": 3,
   "metadata": {},
   "outputs": [
    {
     "name": "stdout",
     "output_type": "stream",
     "text": [
      "escriba un numero entero: 123648\n",
      "El numero escrito al reves es:  846321\n"
     ]
    }
   ],
   "source": [
    "# PUNTO 2\n",
    " #tipo int por que el programa es para un nuero entero\n",
    "entero = int(input('escriba un numero entero: '))\n",
    "\n",
    "#condicional para que el programa funcione en caso de ser negativo o positivo\n",
    "if entero>0:\n",
    "    entero = str(entero)\n",
    "    reversa=str((entero[::-1]))\n",
    "    reversa = int(reversa)\n",
    "    print('El numero escrito al reves es: ',reversa)\n",
    "    \n",
    "else:\n",
    "    entero = entero*(-1)\n",
    "    entero = str(entero)\n",
    "    reversa=str((entero[::-1]))\n",
    "    reversa = int(reversa)*(-1)\n",
    "    print('El numero escrito al reves es: ',reversa) "
   ]
  },
  {
   "cell_type": "code",
   "execution_count": 10,
   "metadata": {},
   "outputs": [
    {
     "name": "stdout",
     "output_type": "stream",
     "text": [
      "escriba un numero entero de tres digitos: 658\n",
      "El \"8\" si esta\n"
     ]
    }
   ],
   "source": [
    "# PUNTO 3\n",
    "#ingresar numero de tres digitos\n",
    "entero = int(input('escriba un numero entero de tres digitos: '))\n",
    "numentero=str(entero)\n",
    "if len(numentero) == 3: #condicional para que el numero sea de tres digitos\n",
    "    if '8' in numentero:    #determinando si contiene al '8'\n",
    "        print('El \"8\" si esta')\n",
    "    else: \n",
    "        print('El \"8\" no esta')\n",
    "    \n",
    "else:\n",
    "    print('el numero no es de tres digitos')\n",
    "    "
   ]
  },
  {
   "cell_type": "code",
   "execution_count": 5,
   "metadata": {},
   "outputs": [
    {
     "name": "stdout",
     "output_type": "stream",
     "text": [
      "escriba un numero entero positivo: 1257982\n",
      "la suma de los positivos es:  12\n"
     ]
    }
   ],
   "source": [
    "# PUNTO 4\n",
    "Entero = int(input('escriba un numero entero positivo: '))\n",
    "if Entero > 0:  #condicional para exigir numero positivo\n",
    "    Entero = str(Entero)    #convirtiendo el numero entero en una lista\n",
    "    entero = list(Entero)\n",
    "    entero = map(int,entero)\n",
    " \n",
    "    positivos = []  #se crea una lista para albergar los numeros positivos\n",
    "    for n in entero:\n",
    "        if n % 2 == 0:\n",
    "            positivos.append(n)\n",
    "            \n",
    "    suma = 0    \n",
    "    for i in positivos: #ciclo parar empezar la suma de los elementos positivos        \n",
    "        suma += i\n",
    "        \n",
    "        \n",
    "    print('la suma de los positivos es: ',suma)\n",
    "    \n",
    "else:\n",
    "    print('el numero no es positivo.')\n"
   ]
  },
  {
   "cell_type": "code",
   "execution_count": 6,
   "metadata": {},
   "outputs": [
    {
     "name": "stdout",
     "output_type": "stream",
     "text": [
      "digite un numero entero: 16553686\n",
      "las veces que mas esta consecutivo el 5 es:  2\n"
     ]
    }
   ],
   "source": [
    "# PUNTO 5\n",
    "#ingresar el numero entero\n",
    "numero = int(input('digite un numero entero: '))\n",
    "lista = []  #creamos una lista para agregar los enteros\n",
    "while (numero>=10):\n",
    "    res = numero % 10 #se obtiene el residuo\n",
    "    lista.append(res)\n",
    "    numero=numero//10 #obtenemos el digito sin el primer digito\n",
    "lista.append(numero) #si el numero es menor que diez se agrega a la lista\n",
    "\n",
    "lista2 = [] #se crea la lista de residuos\n",
    "for i in range(len(lista)):\n",
    "    lista2.append(lista[-i-1])\n",
    "cont = 0\n",
    "lista3 = [] #lista para almacenar los 5 consecutivo\n",
    "for i in range(len(lista2)):\n",
    "    if lista2[i]==5:\n",
    "        cont = cont+1\n",
    "        lista3.append(cont)\n",
    "    else:\n",
    "        if cont != 0:\n",
    "            lista3.append(cont)\n",
    "            cont = 0\n",
    "            \n",
    "mayor = lista3[0]   #mostrar las veces que mas se repite el 5\n",
    "for x in range(len(lista3)):\n",
    "    if lista3[x]>mayor:\n",
    "        mayor = lista3[x]\n",
    "        \n",
    "print('las veces que mas esta consecutivo el 5 es: ',mayor)\n"
   ]
  },
  {
   "cell_type": "code",
   "execution_count": 7,
   "metadata": {},
   "outputs": [
    {
     "name": "stdout",
     "output_type": "stream",
     "text": [
      "escriba un número entero: 236\n",
      "la suma de los digitos del numero es 11 \n",
      "Y no es de la serie          fibonacci.\n"
     ]
    }
   ],
   "source": [
    "# PUNTO 6\n",
    "def sum_digi(x):# funcion para determinar el residuo\n",
    "    cont=0\n",
    "    while x>0:\n",
    "        residuo=x%10\n",
    "        x=x//10\n",
    "        if residuo>0:\n",
    "            cont=cont+residuo\n",
    "    return cont\n",
    "def fibonacci(x):# funcion fibonacci\n",
    "    num1=0\n",
    "    num2=1\n",
    "    resultado= False\n",
    "    while(num1<=x):\n",
    "        if (num1==x):\n",
    "            resultado= True\n",
    "        suma=num1+num2\n",
    "        num1=num2\n",
    "        num2=suma\n",
    "    return resultado\n",
    "\n",
    "while True: #ciclo cuando fibonacci da como resultado true\n",
    "    try:\n",
    "        num=int(input('escriba un número entero: '))\n",
    "        break\n",
    "    except ValueError: #si la funcion genera error entonces el valor no es\n",
    "        print('el valor no es correcto ')\n",
    "        \n",
    "cont=sum_digi(num)\n",
    "if cont<0:\n",
    "    cont=cont*(-1)\n",
    "    \n",
    "resultado=fibonacci(cont)\n",
    "if resultado:\n",
    "    print('la suma de los digitos del numero es',cont,'.\\nY el numero',cont,\\\n",
    "          'es dela serie fibonacci.')\n",
    "else:\n",
    "    print('la suma de los digitos del numero es',cont,'\\nY no es de la serie\\\n",
    "          fibonacci.')"
   ]
  },
  {
   "cell_type": "code",
   "execution_count": 9,
   "metadata": {},
   "outputs": [
    {
     "name": "stdout",
     "output_type": "stream",
     "text": [
      "escriba un numero entero positivo: 11846853444567\n",
      "los numeros repetidos son:  ['1', '8', '4', '5', '6']\n"
     ]
    }
   ],
   "source": [
    "# PUNTO 7\n",
    "entero = int(input('escriba un numero entero positivo: '))\n",
    "if entero > 0:\n",
    "    entero = str(entero)    #convierto el numero a lista\n",
    "    lista = list(entero)\n",
    "    \n",
    "    repetido = []   #defino unas listas vacias de los valores repetidos y unico\n",
    "    unicos = []\n",
    "    \n",
    "    for n in lista: #ciclo para agregar los valores unicos de numero a la lista\n",
    "        if n not in unicos:\n",
    "            unicos.append(n)\n",
    "        else:   #si los valores estan en la lista unicos, iran a lista repetido\n",
    "            if n not in repetido:\n",
    "                repetido.append(n)\n",
    "    \n",
    "    if len(repetido) == 0:\n",
    "        print('no hay numeros repetidos')\n",
    "    else:            \n",
    "        print('los numeros repetidos son: ',repetido)\n",
    "else:\n",
    "    print('el numero no es positivo')\n"
   ]
  },
  {
   "cell_type": "code",
   "execution_count": 11,
   "metadata": {},
   "outputs": [
    {
     "name": "stdout",
     "output_type": "stream",
     "text": [
      "los 15 primeros multiplos de 3 son:  [3, 6, 9, 12, 15, 18, 21, 24, 27, 30, 33, 36, 39, 42, 45]\n",
      "los multiplos de 4 apartir del 15avo del 3 son:  [48, 52, 56, 60, 64, 68, 72, 76, 80, 84, 88, 92, 96, 100]\n"
     ]
    }
   ],
   "source": [
    "# PUNTO 8\n",
    "mul_4=[]    #defino listas donde se alamacenaran los multiplos de 3 y 4    \n",
    "mul_3=[]\n",
    "\n",
    "for i in range(0,101):  #ciclo para evaluar los multiplos de 3\n",
    "    if i % 3 == 0:      #condicional para determinar si es multiplo de 3\n",
    "        mul_3.append(i) #agregar multiplos del tres a la lista de mul_3\n",
    "    if len(mul_3) > 15: #condicional para romper cuando tenga los primeros 15\n",
    "         break\n",
    "for n in range(i,101):  #ciclo para evaluar los siguientes multiplos de 4\n",
    "    if n % 4 == 0:      #condicion para que sea multiplo de 4\n",
    "        mul_4.append(n) #agregar los multiplos de 4 a la lista mul_4\n",
    "\n",
    "print('los 15 primeros multiplos de 3 son: ',mul_3[1:])\n",
    "print('los multiplos de 4 apartir del 15avo del 3 son: ',mul_4) "
   ]
  },
  {
   "cell_type": "code",
   "execution_count": 12,
   "metadata": {},
   "outputs": [
    {
     "name": "stdout",
     "output_type": "stream",
     "text": [
      "digite la coordenada x del circulo 1: 1\n",
      "digite la coordenada y del circulo 1: 1\n",
      "digite el radio del circulo 1: 1\n",
      "digite la coordenada x del circulo 2: 1\n",
      "digite la coordenada y del circulo 2: 1\n",
      "digite el radio del circulo 2: 1\n",
      "coordenada x: 1\n",
      "coordenada y: 1\n",
      "las cordenadas (a,b) estan dentro del circulo 1\n",
      "las cordenadas (a,b) estan dentro del circulo 2\n"
     ]
    }
   ],
   "source": [
    "# PUNTO 9\n",
    "#se piden ingresar los datos del circulo 1 (c1)\n",
    "x1 = float(input('digite la coordenada x del circulo 1: '))\n",
    "y1 = float(input('digite la coordenada y del circulo 1: '))\n",
    "r1 = float(input('digite el radio del circulo 1: '))\n",
    "\n",
    "##se piden ingresar los datos del circulo 2 (c2)\n",
    "x2 = float(input('digite la coordenada x del circulo 2: '))\n",
    "y2 = float(input('digite la coordenada y del circulo 2: '))\n",
    "r2 = float(input('digite el radio del circulo 2: '))\n",
    "\n",
    "#se ingresan las coordenadas del punto que se evaluara\n",
    "a = float(input('coordenada x: '))\n",
    "b = float(input('coordenada y: '))\n",
    "\n",
    "#calculmos la distancia entre el centro del circulo 1  y el punto\n",
    "dist1 = (a-x1)**2+(b-y1)**2\n",
    "if dist1 < r1:  #si la distancia es menor al radio 1 entonces esta dentro de c1\n",
    "    print('las cordenadas (a,b) estan dentro del circulo 1')\n",
    "\n",
    "#calculmos la distancia entre el centro del circulo 2  y el punto\n",
    "dist2 = (a-x2)**2+(b-y2)**2\n",
    "if dist2 < r2:  #si la distancia es menor al radio 2 entonces esta dentro de c2\n",
    "    print('las cordenadas (a,b) estan dentro del circulo 2')\n",
    "\n",
    "#si se cumplen las dos condiciones anteriores entonces estara dentro de c1 y c2    \n",
    "if dist1 > r1 and dist2 > r2:\n",
    "    print('las cordenadas (a,b) estan fuera de ambos circulos')\n",
    "    "
   ]
  },
  {
   "cell_type": "code",
   "execution_count": 14,
   "metadata": {},
   "outputs": [
    {
     "name": "stdout",
     "output_type": "stream",
     "text": [
      "escriba el texto que quiere pasar a mayusculas: hóla\n",
      "el texto en mayusculas es:  HÓLA\n"
     ]
    }
   ],
   "source": [
    "# PUNTO 10\n",
    "#ingreso de la cadena de teto\n",
    "texto = input('escriba el texto que quiere pasar a mayusculas: ')\n",
    "mayus = '' #se define una cadena vacia\n",
    "\n",
    "#ciclo para evaluar cada letra del texto\n",
    "for i in texto:\n",
    "    #las letras minusculas estan ordenadas 32 posiciones despues de las mayus\\\n",
    "    #culas, el condicional al encontrar la identificacion de la letra le resta\\ \n",
    "    #32 para darla en mayusculas\n",
    "   if ord(i)>96 and ord(i)<123: \n",
    "       f = ord(i)-32\n",
    "\n",
    "   elif ord(i) == 252:  #convierte ü en Ü\n",
    "       f = 220\n",
    "   elif ord(i) == 241:  #convierte ñ en Ñ\n",
    "       f = 209\n",
    " \n",
    "   elif ord(i) == 225:  #convierte á en Á\n",
    "       f = 193   \n",
    "   elif ord(i) == 233:  #convierte é en É\n",
    "       f = 201\n",
    "   elif ord(i) == 237:  #convierte í en Í\n",
    "       f = 205      \n",
    "   elif ord(i) == 243:  #convierte ó en Ó\n",
    "       f = 211 \n",
    "   elif ord(i) == 250:  #convierte ú en Ú\n",
    "       f = 218    \n",
    "   elif ord(i) == 32:   #el epacio lo deja igual, si se quisiera se podria rem\\                      \n",
    "       f = 32           #plazar por cualquier caracter\n",
    "   mayus += chr(f)  #a la cadena vacia se le asignan los caracteres cambiados\n",
    "    \n",
    "print('el texto en mayusculas es: ',mayus)   "
   ]
  },
  {
   "cell_type": "code",
   "execution_count": 15,
   "metadata": {},
   "outputs": [
    {
     "name": "stdout",
     "output_type": "stream",
     "text": [
      "escriba una cadena de texto: hola qúeridos in amigos\n",
      "el numero de vocales mayusculas ingresadas fue de:  0\n",
      "el numero de letras con tildes ingresadas fue de:  1\n",
      "el numero de digitos ingresados fue de:  0\n",
      "el numero de espacios ingresados fue de:  3\n",
      "el numero de palabras reservadas fue de:  1\n"
     ]
    }
   ],
   "source": [
    "# PUNTO 11\n",
    "cadena = input('escriba una cadena de texto: ') #ingreso de cadena de texto\n",
    "voc_may =['A','E','I','O','U','Á','É','Í','Ó','Ú']  #defino las voc mayusculas\n",
    "tildes = ['á','é','í','ó','ú','Á','É','Í','Ó','Ú']  #defino letras con tilde\n",
    "espacio = [' '] #defino el esapcio\n",
    "reservadas = ['and','del','for','is','raise','assert','if','else','elif',\\\n",
    "              'from','lambda','return','break','global','not','try','class',\\\n",
    "              'except','or','while','continue','exec','import','yield','def'\\\n",
    "              'finally','in','print']   #lista de palabras reservadas\n",
    "#empiezzo a contar desde cero todas las variables\n",
    "voc_mayus = 0\n",
    "voc_tildes = 0\n",
    "espacios = 0\n",
    "reserv = 0\n",
    "digitos = 0\n",
    "\n",
    "for i in cadena:    #ciclo para determinar las vocales mayusculas\n",
    "    if i in voc_may:    #condicional de estar en grupo de mayusculas\n",
    "        voc_mayus += 1  #si cumple sumar al contador\n",
    "\n",
    "for i in cadena:    #ciclo para determinar letras con tilde\n",
    "    if i in tildes: #condicional de que la letra tiene tilde\n",
    "        voc_tildes += 1 #si cumple sumar al contador\n",
    " \n",
    "       \n",
    "for i in cadena:    #ciclo para determinar los espacios\n",
    "    if i in espacio:    #condicional para determinar si tiene espacios\n",
    "        espacios += 1   #si cumple sumar al contador\n",
    "\n",
    "for i in cadena:    #ciclo para determinar digitos\n",
    "    if i.isdigit(): #comando para evaluar si son digitos\n",
    "        digitos += 1    #si cumple sumar al contador\n",
    "\n",
    "lista = cadena.split(' ')   #convierto cadena en lista separada por espacios \n",
    "for i in lista: #ciclo para evaluar palabras reservadas\n",
    "    if i in reservadas: #condicional si las palabras ingresadas son reservadas\n",
    "        reserv += 1 #si cumple sumar al contador\n",
    "         \n",
    "\n",
    "print('el numero de vocales mayusculas ingresadas fue de: ',voc_mayus)\n",
    "print('el numero de letras con tildes ingresadas fue de: ',voc_tildes)\n",
    "print('el numero de digitos ingresados fue de: ',digitos)\n",
    "print('el numero de espacios ingresados fue de: ',espacios)  \n",
    "print('el numero de palabras reservadas fue de: ',reserv)"
   ]
  },
  {
   "cell_type": "code",
   "execution_count": 16,
   "metadata": {},
   "outputs": [
    {
     "name": "stdout",
     "output_type": "stream",
     "text": [
      "ingrese una palabra: cariño\n",
      "ingrese otra palabra: carino\n",
      "la primer palabra en el diccionario es:  carino\n"
     ]
    }
   ],
   "source": [
    "# PUNTO 12\n",
    "pal1 = input('ingrese una palabra: ') #Ingreso de palabras\n",
    "pal2 = input('ingrese otra palabra: ')\n",
    "\n",
    "lista = [] #agregar palabras a listas en minusculas para no discriminar\n",
    "lista.append(pal1.lower())\n",
    "lista.append(pal2.lower())\n",
    "lista_alfa = sorted(lista) #ordenar alfabeticamente\n",
    "\n",
    "#imprimir la primera de la lista\n",
    "print('la primer palabra en el diccionario es: ',lista_alfa[0]) \n"
   ]
  },
  {
   "cell_type": "code",
   "execution_count": 21,
   "metadata": {},
   "outputs": [
    {
     "name": "stdout",
     "output_type": "stream",
     "text": [
      "Introduzca un texto: los caballos son los mejores animales\n",
      "     l\n",
      "    osc\n",
      "   aball\n",
      "  ossonlo\n",
      " smejoresa\n",
      "  nimales\n"
     ]
    }
   ],
   "source": [
    "cadena = input('Introduzca un texto: ')    #ingreso del texto\n",
    "sin_espacios=''     #cadena vacia para almacener solo los caracteres\n",
    "     \n",
    "for i in range(len(cadena)):     #ciclo para eliminar los espacios del texto   \n",
    "    if (cadena[i] != ' '):        \n",
    "        sin_espacios += cadena[i]\n",
    "    else:\n",
    "        sin_espacios += ''\n",
    "        \n",
    "long = len(sin_espacios)    #longitud de la cadena sin espacios      \n",
    "\n",
    "a = 1     #parametros iniciales para crear el trinagulo\n",
    "b = 1       \n",
    "vec=[1]\n",
    "\n",
    "#la pimer fila tiene 1 caracter y aumenta de a dos hacia abajo\n",
    "while (b < long):\n",
    "    a = a+2\n",
    "    b = a+b\n",
    "    vec.append(a)\n",
    "lineas =len(vec)  #la longitud de 'vec' es el numero de lineas del triangulo\n",
    "                \n",
    "b = 0\n",
    "for i in range(lineas):\n",
    "    b = b+vec[i]\n",
    "    a = b-vec[i]\n",
    "    \n",
    "    if i == lineas-1: #condicional para meter la cadena sin espacios en el \n",
    "                   #numero de filas con cada una de las longitudes de cada fila\n",
    "     \n",
    "        if (b-long) != 0: #condicional para acomodar ultima fila si no es llena\n",
    "                                   \n",
    "            if (long-a)<vec[i-1]:     #se dividen los espacios a ambos lados \n",
    "                                        #para centrar las letras                                        \n",
    "                c=(vec[i]-(long-a))//2\n",
    "                for k in range(0,c):\n",
    "                    print(end=\" \")\n",
    "                       \n",
    "    for j in range(0,lineas-i-1):\n",
    "        print(end=\" \")\n",
    "    #impresion de la cadena en forma de triangulo  \n",
    "    print(sin_espacios[a:b])"
   ]
  },
  {
   "cell_type": "code",
   "execution_count": 23,
   "metadata": {
    "scrolled": false
   },
   "outputs": [
    {
     "name": "stdout",
     "output_type": "stream",
     "text": [
      "ingrese un texto: siete por cuatro veintiocho\n",
      "acceeehiiinooooprrstttuv"
     ]
    }
   ],
   "source": [
    "# PUNTO 14\n",
    "letras = []\n",
    "#se ingresa cadena y se vuelve lista\n",
    "texto = list(str(input('ingrese un texto: ')))\n",
    "for i in range(len(texto)): #ciclo para sacar los espacios\n",
    "    if texto[i] != ' ' :\n",
    "        letras.append(texto[i])#almacenar las letras en la lista definida antes\n",
    "        \n",
    "        texto1 = sorted(letras) #organizar alfabeticamente\n",
    "        \n",
    "for i in range(len(letras)):\n",
    "    print(texto1[i],end='')\n"
   ]
  },
  {
   "cell_type": "code",
   "execution_count": 25,
   "metadata": {},
   "outputs": [
    {
     "name": "stdout",
     "output_type": "stream",
     "text": [
      "escriba cuantos valores tendra la lista: 6\n",
      "escriba los numeros enteros de la lista: 1\n",
      "escriba los numeros enteros de la lista: 5\n",
      "escriba los numeros enteros de la lista: 6\n",
      "escriba los numeros enteros de la lista: 9\n",
      "escriba los numeros enteros de la lista: 1\n",
      "escriba los numeros enteros de la lista: 2\n",
      "el numero  1 esta repetido 2 veces\n"
     ]
    }
   ],
   "source": [
    "# PUNTO 15\n",
    "#primero se definde cuantos valores tendra la lista\n",
    "valores = int(input('escriba cuantos valores tendra la lista: '))\n",
    "lista = []  #se crea una lista vacia\n",
    "\n",
    "#para cada posicion en la longitud de la lista se pide entrar un valor\n",
    "for i in range(valores):    \n",
    "    lista.append(int(input('escriba los numeros enteros de la lista: ')))\n",
    "    \n",
    "\n",
    "repetidos = []  #se crea una lista vacia donde quedaran los valores repetidos\n",
    "for i in range(len(lista)):\n",
    "    a = lista.count(lista[i])   #comando count para para contar los valores \n",
    "    if a==2:    #si el valor esta dos veces se agrega a la lista repetidos\n",
    "        repetidos.append(lista[i])\n",
    "\n",
    "#proceso para que los numeros repetidos se impriman solo una vez, ya que si x \\\n",
    "#numero esta dos veces en la lista, lo almacena las dos veces en repetidos\n",
    "rep = []    \n",
    "for i in repetidos:\n",
    "    if i not in rep:\n",
    "        rep.append(i)\n",
    "\n",
    "for i in rep:\n",
    "    print('el numero ',i ,'esta repetido 2 veces')"
   ]
  },
  {
   "cell_type": "code",
   "execution_count": 27,
   "metadata": {},
   "outputs": [
    {
     "name": "stdout",
     "output_type": "stream",
     "text": [
      "digite la longitud de la lista: 3\n",
      "inserte un numero: 1\n",
      "inserte un numero: 5\n",
      "inserte un numero: 6\n",
      "la lista esta ordenada\n",
      "inserte un numero para agregar a la lista: 4\n",
      "la posicion indexada del numero inresado es:  1\n"
     ]
    }
   ],
   "source": [
    "# PUNTO 16\n",
    "#digitar el numero de caracteres de la lista\n",
    "long = int(input('digite la longitud de la lista: '))\n",
    "lista = []\n",
    "for i in range(long):   #ciclo para agregar cada termino de la lista\n",
    "    lista.append(float(input('inserte un numero: ')))\n",
    "\n",
    "lis_orden = []  #defino una nueva lista ordenada\n",
    "lis_orden = sorted(lista)   #la lista sera la ingresada ordenada ascendente\n",
    "          \n",
    "if lis_orden == lista:  #condicional de que la lista ingresada sea ordenada\n",
    "    print('la lista esta ordenada')\n",
    "\n",
    "    #ingresar el numero que se desea añadir\n",
    "    numero = float(input('inserte un numero para agregar a la lista: '))    \n",
    "    lista.append(numero)    #añadirlo a la lista\n",
    "    lis_orden = sorted(lista)   #organizar la nueva lista ascendentemente\n",
    "    posicion = lis_orden.index(numero)  #dar la posicion del numero ingresado\n",
    "    print('la posicion indexada del numero inresado es: ',posicion)\n",
    "\n",
    "else:\n",
    "    print('la lista no esta ordenada')"
   ]
  },
  {
   "cell_type": "code",
   "execution_count": 29,
   "metadata": {},
   "outputs": [
    {
     "name": "stdout",
     "output_type": "stream",
     "text": [
      "Digite el numero de elementos de la lista: 4\n",
      "Introduzca un numero a la lista: 1\n",
      "Introduzca un numero a la lista: 2\n",
      "Introduzca un numero a la lista: 988852\n",
      "Introduzca un numero a la lista: -12\n",
      "el segundo valor mas grande de la lista es:  2.0\n"
     ]
    }
   ],
   "source": [
    "# PUNTO 17\n",
    "#definimos que tan grande es la lista de los numeros\n",
    "    #float para ingresar enteros y decimales\n",
    "long=(int)(input('Digite el numero de elementos de la lista: ')) \n",
    "lista=[]# \n",
    "for i in range(long):   #ingreso de cada uno de los valores de la lista\n",
    "    lista.append(float(input('Introduzca un numero a la lista: ')))\n",
    "\n",
    "for i in range(len(lista)):   #ciclo para organizar la lista ascendentmente\n",
    "    for j in range(len(lista)):\n",
    "      if lista[i] < lista[j]:\n",
    "        lista1 = lista[j]\n",
    "        lista[j] = lista[i]\n",
    "        lista[i] = lista1\n",
    "# seleccionamos el penultimo valor de la lista ordenada por medio del indexado\n",
    "print('el segundo valor mas grande de la lista es: ',lista[len(lista)-2])"
   ]
  },
  {
   "cell_type": "code",
   "execution_count": 33,
   "metadata": {},
   "outputs": [
    {
     "name": "stdout",
     "output_type": "stream",
     "text": [
      "ingrese el numero de filas: 3\n",
      "ingrese el numero de columnas: 3\n",
      "Ingrese el valor de la posición A1: 1\n",
      "Ingrese el valor de la posición B1: 2\n",
      "Ingrese el valor de la posición C1: 3\n",
      "Ingrese el valor de la posición A2: 45\n",
      "Ingrese el valor de la posición B2: 65\n",
      "Ingrese el valor de la posición C2: 5\n",
      "Ingrese el valor de la posición A3: 8\n",
      "Ingrese el valor de la posición B3: 5\n",
      "Ingrese el valor de la posición C3: 1\n",
      "la matriz trianguas superior es: \n",
      "[[ 1  2  3]\n",
      " [ 0 65  5]\n",
      " [ 0  0  1]]\n"
     ]
    }
   ],
   "source": [
    "# PUNTO 18\n",
    "import numpy #importamos la biblioteca numpy para operar matrices\n",
    "\n",
    "#ingresamos el numero de filas y columnas que queremos\n",
    "filas = int(input('ingrese el numero de filas: '))\n",
    "col = int(input('ingrese el numero de columnas: '))\n",
    "\n",
    "#condicional por que la matriz debera ser cuadrada\n",
    "if col == filas:\n",
    "    #definimos funcion para hacer matrices con las dimensiones establecidas\n",
    "    def matriz(filas,col):\n",
    "        matriz = [[0 for c in range(col)]for f in range(filas)]\n",
    "        for fil in range(len(matriz)):\n",
    "            for elemento in range(len(matriz[fil])):\n",
    "                while True:\n",
    "                    \n",
    "                    val = input(f\"Ingrese el valor de la posición \"\n",
    "                                f\"{chr(65 + elemento)}{fil + 1}: \")\n",
    "                    matriz[fil][elemento] = int(val)\n",
    "                    break\n",
    "                   \n",
    "        return matriz\n",
    "    #utilizando la biblioteca numpy creamos la matriz con la funcion 'matriz'\n",
    "    Matriz = numpy.array(matriz(filas,col))\n",
    "    #y sacamos la matriz triangular superior\n",
    "    matriz_triang = numpy.triu(Matriz)\n",
    "    print('la matriz trianguas superior es: ')\n",
    "    print(matriz_triang)\n",
    "#cuando la matriz no es cuadrada no mostrara:\n",
    "else:\n",
    "    print('la matriz no es cuadrada')"
   ]
  },
  {
   "cell_type": "code",
   "execution_count": 30,
   "metadata": {},
   "outputs": [
    {
     "name": "stdout",
     "output_type": "stream",
     "text": [
      "digite el numero de valores que tendra la lista: 5\n",
      "ingrese los valores de la lista: 5\n",
      "ingrese los valores de la lista: 6\n",
      "ingrese los valores de la lista: 7\n",
      "ingrese los valores de la lista: 9\n",
      "ingrese los valores de la lista: 1\n",
      "la sublista mas larga en la lista ordenada es:  [5.0, 6.0, 7.0, 9.0]\n"
     ]
    }
   ],
   "source": [
    "# PUNTO 19\n",
    "#se ingresan e numero de valore que endra la lista\n",
    "valores = int(input('digite el numero de valores que tendra la lista: '))\n",
    "lista = []  #se define la lista vacia donde se almacenaran los datos\n",
    "for i in range(valores):    #se ingresan los valores de la lista\n",
    "    lista.append(float(input('ingrese los valores de la lista: ')))\n",
    "\n",
    "sub = []    #lista donde se almacenaran las sumblistas consecutivas\n",
    "long = []   #lita donde se almacenan la longitud de cada sublista\n",
    "for i in range(valores):\n",
    "    sub.append([])\n",
    "    sub[i].append(lista[i])\n",
    "    for j in range(i+1,len(lista)):\n",
    "        if lista[j-1] <= lista[j]:\n",
    "            sub[i].append(lista[j])\n",
    "        else:\n",
    "            break\n",
    "    long.append(len(sub[i]))\n",
    "\n",
    "mayor = long.count(max(long))   #se evalua el mayor de la lista donde estan las\n",
    "                                #longitude de las listas\n",
    "posicion = long.index(max(long)) #buscamos la posicion de la sublista mas larga\n",
    "if mayor == 1:\n",
    "    print('la sublista mas larga en la lista ordenada es: ',sub[posicion])"
   ]
  },
  {
   "cell_type": "code",
   "execution_count": 31,
   "metadata": {},
   "outputs": [
    {
     "name": "stdout",
     "output_type": "stream",
     "text": [
      "ingrese el numero de filas: 2\n",
      "ingrese el numero de columnas: 3\n",
      "ingrese lo valores de la matriz: 2\n",
      "ingrese lo valores de la matriz: 5\n",
      "ingrese lo valores de la matriz: 6\n",
      "ingrese lo valores de la matriz: 8\n",
      "ingrese lo valores de la matriz: 6\n",
      "ingrese lo valores de la matriz: 2\n",
      "[[6.0, 2.0], [5.0, 6.0], [2.0, 8.0]]\n"
     ]
    }
   ],
   "source": [
    "# PUNTO 20\n",
    "#se ingresan el numero de filas y columnas que tendra la matriz\n",
    "filas = int(input('ingrese el numero de filas: '))\n",
    "columnas = int(input('ingrese el numero de columnas: '))\n",
    "\n",
    "mat = []    #definimos la matriz, que sera una lista de listas\n",
    "for i in range(filas): #para el numero de filas agregamos una lista en cada una\n",
    "    mat.append([])\n",
    "     #para cada fila se ingresan valores dependiendo el nunero de columnas\n",
    "    for j in range(columnas):                                 \n",
    "        mat[i].append(float(input('ingrese lo valores de la matriz: ')))\n",
    "  \n",
    "mat_giro = []   #se crea la matriz que va a estar girada\n",
    "for k in range(columnas):  #el numero de filas quedara en el numero de columnas\n",
    "    mat_giro.append([])\n",
    "    for n in range(filas):  #para las el numero de filas, se agregaran las col\\\n",
    "                           #umnas pero organizadas en el sentido girado, camb\\\n",
    "                          #iando las filas por columnas de atras hacia adelante\n",
    "        mat_giro[k].append(mat[n][-k-1])\n",
    "\n",
    "print(mat_giro)"
   ]
  },
  {
   "cell_type": "code",
   "execution_count": 32,
   "metadata": {},
   "outputs": [
    {
     "name": "stdout",
     "output_type": "stream",
     "text": [
      "ingrese el numero de filas: 2\n",
      "ingrese el numero de columnas: 3\n",
      "ingrese lo valores de la matriz: 2\n",
      "ingrese lo valores de la matriz: 5\n",
      "ingrese lo valores de la matriz: 6\n",
      "ingrese lo valores de la matriz: 8\n",
      "ingrese lo valores de la matriz: 6\n",
      "ingrese lo valores de la matriz: 2\n",
      "la matriz rotada 90° en sentido antihorarios es:  [[6. 2.]\n",
      " [5. 6.]\n",
      " [2. 8.]]\n"
     ]
    }
   ],
   "source": [
    "# PUNTO 20 numpy\n",
    "#se ingresan el numero de filas y columnas que tendra la matriz\n",
    "import numpy as np\n",
    "filas = int(input('ingrese el numero de filas: '))\n",
    "columnas = int(input('ingrese el numero de columnas: '))\n",
    "\n",
    "mat = []    #definimos la matriz, que sera una lista de listas\n",
    "for i in range(filas): #para el numero de filas agregamos una lista en cada una\n",
    "    mat.append([])\n",
    "     #para cada fila se ingresan valores dependiendo el nunero de columnas\n",
    "    for j in range(columnas):                                 \n",
    "        mat[i].append(float(input('ingrese lo valores de la matriz: ')))\n",
    "\n",
    "#con la biblioteca numpy generamos la matriz \n",
    "matriz = np.array(mat)\n",
    "# rotamos la matriz 90° una vez\n",
    "matriz_rot = np.rot90(mat)\n",
    "\n",
    "print('la matriz rotada 90° en sentido antihorarios es: ',matriz_rot)\n"
   ]
  },
  {
   "cell_type": "code",
   "execution_count": null,
   "metadata": {},
   "outputs": [],
   "source": []
  }
 ],
 "metadata": {
  "kernelspec": {
   "display_name": "Python 3",
   "language": "python",
   "name": "python3"
  },
  "language_info": {
   "codemirror_mode": {
    "name": "ipython",
    "version": 3
   },
   "file_extension": ".py",
   "mimetype": "text/x-python",
   "name": "python",
   "nbconvert_exporter": "python",
   "pygments_lexer": "ipython3",
   "version": "3.7.3"
  }
 },
 "nbformat": 4,
 "nbformat_minor": 2
}
