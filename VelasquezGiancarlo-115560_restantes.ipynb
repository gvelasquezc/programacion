{
 "cells": [
  {
   "cell_type": "markdown",
   "metadata": {},
   "source": [
    "# PUNTOS RESTANTES TALLER 1\n",
    "## PROGRAMACION DE COMPUTADORES\n",
    "GIANCARLO VELASQUEZ CARRILLO - 115560"
   ]
  },
  {
   "cell_type": "code",
   "execution_count": 1,
   "metadata": {},
   "outputs": [
    {
     "name": "stdout",
     "output_type": "stream",
     "text": [
      "digite la coordenada x del circulo 1: 1\n",
      "digite la coordenada y del circulo 1: 1\n",
      "digite el radio del circulo 1: 2\n",
      "digite la coordenada x del circulo 2: 2\n",
      "digite la coordenada y del circulo 2: 2\n",
      "digite el radio del circulo 2: 1\n",
      "coordenada x: 40\n",
      "coordenada y: 40\n",
      "las cordenadas (a,b) estan fuera de ambos circulos\n"
     ]
    }
   ],
   "source": [
    "# PUNTO 9\n",
    "#se piden ingresar los datos del circulo 1 (c1)\n",
    "x1 = float(input('digite la coordenada x del circulo 1: '))\n",
    "y1 = float(input('digite la coordenada y del circulo 1: '))\n",
    "r1 = float(input('digite el radio del circulo 1: '))\n",
    "\n",
    "##se piden ingresar los datos del circulo 2 (c2)\n",
    "x2 = float(input('digite la coordenada x del circulo 2: '))\n",
    "y2 = float(input('digite la coordenada y del circulo 2: '))\n",
    "r2 = float(input('digite el radio del circulo 2: '))\n",
    "\n",
    "#se ingresan las coordenadas del punto que se evaluara\n",
    "a = float(input('coordenada x: '))\n",
    "b = float(input('coordenada y: '))\n",
    "\n",
    "#calculmos la distancia entre el centro del circulo 1  y el punto\n",
    "dist1 = (a-x1)**2+(b-y1)**2\n",
    "if dist1 < r1:  #si la distancia es menor al radio 1 entonces esta dentro de c1\n",
    "    print('las cordenadas (a,b) estan dentro del circulo 1')\n",
    "\n",
    "#calculmos la distancia entre el centro del circulo 2  y el punto\n",
    "dist2 = (a-x2)**2+(b-y2)**2\n",
    "if dist2 < r2:  #si la distancia es menor al radio 2 entonces esta dentro de c2\n",
    "    print('las cordenadas (a,b) estan dentro del circulo 2')\n",
    "\n",
    "#si se cumplen las dos condiciones anteriores entonces estara dentro de c1 y c2    \n",
    "if dist1 > r1 and dist2 > r2:\n",
    "    print('las cordenadas (a,b) estan fuera de ambos circulos')\n",
    "    "
   ]
  },
  {
   "cell_type": "code",
   "execution_count": 2,
   "metadata": {},
   "outputs": [
    {
     "name": "stdout",
     "output_type": "stream",
     "text": [
      "escriba el texto que quiere pasar a mayusculas: hola a todos\n",
      "el texto en mayusculas es:  HOLA A TODOS\n"
     ]
    }
   ],
   "source": [
    "# PUNTO 10\n",
    "#ingreso de la cadena de teto\n",
    "texto = input('escriba el texto que quiere pasar a mayusculas: ')\n",
    "mayus = '' #se define una cadena vacia\n",
    "\n",
    "#ciclo para evaluar cada letra del texto\n",
    "for i in texto:\n",
    "    #las letras minusculas estan ordenadas 32 posiciones despues de las mayus\\\n",
    "    #culas, el condicional al encontrar la identificacion de la letra le resta\\ \n",
    "    #32 para darla en mayusculas\n",
    "   if ord(i)>96 and ord(i)<123: \n",
    "       f = ord(i)-32\n",
    "\n",
    "   elif ord(i) == 252:  #convierte ü en Ü\n",
    "       f = 220\n",
    "   elif ord(i) == 241:  #convierte ñ en Ñ\n",
    "       f = 209\n",
    " \n",
    "   elif ord(i) == 225:  #convierte á en Á\n",
    "       f = 193   \n",
    "   elif ord(i) == 233:  #convierte é en É\n",
    "       f = 201\n",
    "   elif ord(i) == 237:  #convierte í en Í\n",
    "       f = 205      \n",
    "   elif ord(i) == 243:  #convierte ó en Ó\n",
    "       f = 211 \n",
    "   elif ord(i) == 250:  #convierte ú en Ú\n",
    "       f = 218    \n",
    "   elif ord(i) == 32:   #el epacio lo deja igual, si se quisiera se podria rem\\                      \n",
    "       f = 32           #plazar por cualquier caracter\n",
    "   mayus += chr(f)  #a la cadena vacia se le asignan los caracteres cambiados\n",
    "    \n",
    "print('el texto en mayusculas es: ',mayus)      "
   ]
  },
  {
   "cell_type": "code",
   "execution_count": 3,
   "metadata": {},
   "outputs": [
    {
     "name": "stdout",
     "output_type": "stream",
     "text": [
      "escriba cuantos valores tendra la lista: 4\n",
      "escriba los numeros enteros de la lista: 1\n",
      "escriba los numeros enteros de la lista: 5\n",
      "escriba los numeros enteros de la lista: 69\n",
      "escriba los numeros enteros de la lista: 5\n",
      "el numero  5 esta repetido 2 veces\n"
     ]
    }
   ],
   "source": [
    "# PUNTO 15\n",
    "#primero se definde cuantos valores tendra la lista\n",
    "valores = int(input('escriba cuantos valores tendra la lista: '))\n",
    "lista = []  #se crea una lista vacia\n",
    "\n",
    "#para cada posicion en la longitud de la lista se pide entrar un valor\n",
    "for i in range(valores):    \n",
    "    lista.append(int(input('escriba los numeros enteros de la lista: ')))\n",
    "    \n",
    "\n",
    "repetidos = []  #se crea una lista vacia donde quedaran los valores repetidos\n",
    "for i in range(len(lista)):\n",
    "    a = lista.count(lista[i])   #comando count para para contar los valores \n",
    "    if a==2:    #si el valor esta dos veces se agrega a la lista repetidos\n",
    "        repetidos.append(lista[i])\n",
    "\n",
    "#proceso para que los numeros repetidos se impriman solo una vez, ya que si x \\\n",
    "#numero esta dos veces en la lista, lo almacena las dos veces en repetidos\n",
    "rep = []    \n",
    "for i in repetidos:\n",
    "    if i not in rep:\n",
    "        rep.append(i)\n",
    "\n",
    "for i in rep:\n",
    "    print('el numero ',i ,'esta repetido 2 veces')"
   ]
  },
  {
   "cell_type": "code",
   "execution_count": 4,
   "metadata": {},
   "outputs": [
    {
     "name": "stdout",
     "output_type": "stream",
     "text": [
      "ingrese el numero de filas: 2\n",
      "ingrese el numero de columnas: 3\n",
      "la matriz no es cuadrada\n"
     ]
    }
   ],
   "source": [
    "# PUNTO 18\n",
    "import numpy #importamos la biblioteca numpy para operar matrices\n",
    "\n",
    "#ingresamos el numero de filas y columnas que queremos\n",
    "filas = int(input('ingrese el numero de filas: '))\n",
    "col = int(input('ingrese el numero de columnas: '))\n",
    "\n",
    "#condicional por que la matriz debera ser cuadrada\n",
    "if col == filas:\n",
    "    #definimos funcion para hacer matrices con las dimensiones establecidas\n",
    "    def matriz(filas,col):\n",
    "        matriz = [[0 for c in range(col)]for f in range(filas)]\n",
    "        for fil in range(len(matriz)):\n",
    "            for elemento in range(len(matriz[fil])):\n",
    "                while True:\n",
    "                    \n",
    "                    val = input(f\"Ingrese el valor de la posición \"\n",
    "                                f\"{chr(65 + elemento)}{fil + 1}: \")\n",
    "                    matriz[fil][elemento] = int(val)\n",
    "                    break\n",
    "                   \n",
    "        return matriz\n",
    "    #utilizando la biblioteca numpy creamos la matriz con la funcion 'matriz'\n",
    "    Matriz = numpy.array(matriz(filas,col))\n",
    "    #y sacamos la matriz triangular superior\n",
    "    matriz_triang = numpy.triu(Matriz)\n",
    "    print('la matriz trianguas superior es: ')\n",
    "    print(matriz_triang)\n",
    "#cuando la matriz no es cuadrada no mostrara:\n",
    "else:\n",
    "    print('la matriz no es cuadrada')\n",
    "    "
   ]
  },
  {
   "cell_type": "code",
   "execution_count": 5,
   "metadata": {},
   "outputs": [
    {
     "name": "stdout",
     "output_type": "stream",
     "text": [
      "digite el numero de valores que tendra la lista: 5\n",
      "ingrese los valores de la lista: 1\n",
      "ingrese los valores de la lista: 2\n",
      "ingrese los valores de la lista: 3\n",
      "ingrese los valores de la lista: 9\n",
      "ingrese los valores de la lista: 0\n",
      "la sublista mas larga en la lista ordenada es:  [1.0, 2.0, 3.0, 9.0]\n"
     ]
    }
   ],
   "source": [
    "# PUNTO 19\n",
    "#se ingresan e numero de valore que endra la lista\n",
    "valores = int(input('digite el numero de valores que tendra la lista: '))\n",
    "lista = []  #se define la lista vacia donde se almacenaran los datos\n",
    "for i in range(valores):    #se ingresan los valores de la lista\n",
    "    lista.append(float(input('ingrese los valores de la lista: ')))\n",
    "\n",
    "sub = []    #lista donde se almacenaran las sumblistas consecutivas\n",
    "long = []   #lita donde se almacenan la longitud de cada sublista\n",
    "for i in range(valores):\n",
    "    sub.append([])\n",
    "    sub[i].append(lista[i])\n",
    "    for j in range(i+1,len(lista)):\n",
    "        if lista[j-1] <= lista[j]:\n",
    "            sub[i].append(lista[j])\n",
    "        else:\n",
    "            break\n",
    "    long.append(len(sub[i]))\n",
    "\n",
    "mayor = long.count(max(long))   #se evalua el mayor de la lista donde estan las\n",
    "                                #longitude de las listas\n",
    "posicion = long.index(max(long)) #buscamos la posicion de la sublista mas larga\n",
    "if mayor == 1:\n",
    "    print('la sublista mas larga en la lista ordenada es: ',sub[posicion])"
   ]
  },
  {
   "cell_type": "code",
   "execution_count": 6,
   "metadata": {},
   "outputs": [
    {
     "name": "stdout",
     "output_type": "stream",
     "text": [
      "ingrese el numero de filas: 4\n",
      "ingrese el numero de columnas: 2\n",
      "ingrese lo valores de la matriz: 1\n",
      "ingrese lo valores de la matriz: 2\n",
      "ingrese lo valores de la matriz: 3\n",
      "ingrese lo valores de la matriz: 4\n",
      "ingrese lo valores de la matriz: 5\n",
      "ingrese lo valores de la matriz: 6\n",
      "ingrese lo valores de la matriz: 3\n",
      "ingrese lo valores de la matriz: 2\n",
      "[[2.0, 4.0, 6.0, 2.0], [1.0, 3.0, 5.0, 3.0]]\n"
     ]
    }
   ],
   "source": [
    "# PUNTO 20\n",
    "#se ingresan el numero de filas y columnas que tendra la matriz\n",
    "filas = int(input('ingrese el numero de filas: '))\n",
    "columnas = int(input('ingrese el numero de columnas: '))\n",
    "\n",
    "mat = []    #definimos la matriz, que sera una lista de listas\n",
    "for i in range(filas): #para el numero de filas agregamos una lista en cada una\n",
    "    mat.append([])\n",
    "     #para cada fila se ingresan valores dependiendo el nunero de columnas\n",
    "    for j in range(columnas):                                 \n",
    "        mat[i].append(float(input('ingrese lo valores de la matriz: ')))\n",
    "  \n",
    "mat_giro = []   #se crea la matriz que va a estar girada\n",
    "for k in range(columnas):  #el numero de filas quedara en el numero de columnas\n",
    "    mat_giro.append([])\n",
    "    for n in range(filas):  #para las el numero de filas, se agregaran las col\\\n",
    "                           #umnas pero organizadas en el sentido girado, camb\\\n",
    "                          #iando las filas por columnas de atras hacia adelante\n",
    "        mat_giro[k].append(mat[n][-k-1])\n",
    "\n",
    "print(mat_giro)"
   ]
  },
  {
   "cell_type": "code",
   "execution_count": null,
   "metadata": {},
   "outputs": [],
   "source": []
  }
 ],
 "metadata": {
  "kernelspec": {
   "display_name": "Python 3",
   "language": "python",
   "name": "python3"
  },
  "language_info": {
   "codemirror_mode": {
    "name": "ipython",
    "version": 3
   },
   "file_extension": ".py",
   "mimetype": "text/x-python",
   "name": "python",
   "nbconvert_exporter": "python",
   "pygments_lexer": "ipython3",
   "version": "3.7.3"
  }
 },
 "nbformat": 4,
 "nbformat_minor": 2
}
